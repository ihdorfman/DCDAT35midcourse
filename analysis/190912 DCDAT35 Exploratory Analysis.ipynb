{
 "cells": [
  {
   "cell_type": "code",
   "execution_count": 1,
   "metadata": {},
   "outputs": [
    {
     "data": {
      "text/html": [
       "        <script type=\"text/javascript\">\n",
       "        window.PlotlyConfig = {MathJaxConfig: 'local'};\n",
       "        if (window.MathJax) {MathJax.Hub.Config({SVG: {font: \"STIX-Web\"}});}\n",
       "        if (typeof require !== 'undefined') {\n",
       "        require.undef(\"plotly\");\n",
       "        requirejs.config({\n",
       "            paths: {\n",
       "                'plotly': ['https://cdn.plot.ly/plotly-latest.min']\n",
       "            }\n",
       "        });\n",
       "        require(['plotly'], function(Plotly) {\n",
       "            window._Plotly = Plotly;\n",
       "        });\n",
       "        }\n",
       "        </script>\n",
       "        "
      ]
     },
     "metadata": {},
     "output_type": "display_data"
    }
   ],
   "source": [
    "import os\n",
    "from pathlib import Path\n",
    "import pandas as pd\n",
    "import numpy as np\n",
    "import dash\n",
    "import dash_core_components as dcc\n",
    "import dash_html_components as html\n",
    "from dash.dependencies import Input, Output, State\n",
    "import pandas as pd\n",
    "import numpy as np\n",
    "import re\n",
    "import plotly\n",
    "import plotly.graph_objs as go\n",
    "import plotly.offline as offline\n",
    "from plotly.graph_objs import *\n",
    "from plotly.offline import download_plotlyjs, init_notebook_mode, plot, iplot\n",
    "\n",
    "init_notebook_mode(connected=True)"
   ]
  },
  {
   "cell_type": "code",
   "execution_count": 3,
   "metadata": {},
   "outputs": [],
   "source": [
    "#import and prepare the data for mapping\n",
    "home = Path.cwd()\n",
    "\n",
    "filepath = Path.joinpath(home.parent, 'data', 'master.csv')\n",
    "df1 = pd.read_csv(filepath)\n",
    "df1.rename(columns={'suicides/100k pop':'per100'}, inplace=True)\n",
    "df1['country'].replace('Russian Federation','Russia', inplace=True)\n",
    "\n",
    "filepath2 = Path.joinpath(home.parent, 'data', 'd3-world-map.csv')\n",
    "df2 = pd.read_csv(filepath2)\n",
    "df2.drop(columns='z', inplace=True)\n",
    "df2.rename(columns={'text':'country'}, inplace=True)\n",
    "\n",
    "df3 = pd.merge(df1, df2, on='country')\n",
    "\n",
    "df4 = df3[['country','year','per100','locations']]\n",
    "\n",
    "df5 = df4.groupby(['country','locations','year']).agg(sum).reset_index()"
   ]
  },
  {
   "cell_type": "code",
   "execution_count": 10,
   "metadata": {},
   "outputs": [
    {
     "data": {
      "text/plain": [
       "[1987,\n",
       " 1988,\n",
       " 1989,\n",
       " 1992,\n",
       " 1993,\n",
       " 1994,\n",
       " 1995,\n",
       " 1996,\n",
       " 1997,\n",
       " 1998,\n",
       " 1999,\n",
       " 2000,\n",
       " 2001,\n",
       " 2002,\n",
       " 2003,\n",
       " 2004,\n",
       " 2005,\n",
       " 2006,\n",
       " 2007,\n",
       " 2008,\n",
       " 2009,\n",
       " 2010,\n",
       " 1985,\n",
       " 1986,\n",
       " 1990,\n",
       " 1991,\n",
       " 2012,\n",
       " 2013,\n",
       " 2014,\n",
       " 2015,\n",
       " 2011,\n",
       " 2016]"
      ]
     },
     "execution_count": 10,
     "metadata": {},
     "output_type": "execute_result"
    }
   ],
   "source": [
    "YEARS = [1987, 1988, 1989, 1992, 1993, 1994, 1995, 1996, 1997, 1998, 1999,\n",
    "       2000, 2001, 2002, 2003, 2004, 2005, 2006, 2007, 2008, 2009, 2010,\n",
    "       1985, 1986, 1990, 1991, 2012, 2013, 2014, 2015, 2011, 2016]\n",
    "YEARS"
   ]
  },
  {
   "cell_type": "code",
   "execution_count": 12,
   "metadata": {
    "collapsed": true
   },
   "outputs": [
    {
     "data": {
      "text/plain": [
       "['#2a4858',\n",
       " '#265465',\n",
       " '#1e6172',\n",
       " '#106e7c',\n",
       " '#007b84',\n",
       " '#00898a',\n",
       " '#00968e',\n",
       " '#19a390',\n",
       " '#31b08f',\n",
       " '#4abd8c',\n",
       " '#64c988',\n",
       " '#80d482',\n",
       " '#9cdf7c',\n",
       " '#bae976',\n",
       " '#d9f271',\n",
       " '#fafa6e']"
      ]
     },
     "execution_count": 12,
     "metadata": {},
     "output_type": "execute_result"
    }
   ],
   "source": [
    "DEFAULT_COLORSCALE = [\"#2a4858\", \"#265465\", \"#1e6172\", \"#106e7c\", \"#007b84\",\n",
    "                      \"#00898a\", \"#00968e\", \"#19a390\", \"#31b08f\", \"#4abd8c\", \"#64c988\",\n",
    "                      \"#80d482\", \"#9cdf7c\", \"#bae976\", \"#d9f271\", \"#fafa6e\"]\n",
    "DEFAULT_COLORSCALE"
   ]
  },
  {
   "cell_type": "code",
   "execution_count": 14,
   "metadata": {},
   "outputs": [
    {
     "ename": "NameError",
     "evalue": "name 'app' is not defined",
     "output_type": "error",
     "traceback": [
      "\u001b[0;31m---------------------------------------------------------------------------\u001b[0m",
      "\u001b[0;31mNameError\u001b[0m                                 Traceback (most recent call last)",
      "\u001b[0;32m<ipython-input-14-b78fecde039e>\u001b[0m in \u001b[0;36m<module>\u001b[0;34m\u001b[0m\n\u001b[1;32m     28\u001b[0m                         \u001b[0mlocationmode\u001b[0m\u001b[0;34m=\u001b[0m\u001b[0;34m'country names'\u001b[0m\u001b[0;34m,\u001b[0m\u001b[0;34m\u001b[0m\u001b[0;34m\u001b[0m\u001b[0m\n\u001b[1;32m     29\u001b[0m                         \u001b[0mcolorscale\u001b[0m \u001b[0;34m=\u001b[0m \u001b[0mDEFAULT_COLORSCALE\u001b[0m\u001b[0;34m,\u001b[0m\u001b[0;34m\u001b[0m\u001b[0;34m\u001b[0m\u001b[0m\n\u001b[0;32m---> 30\u001b[0;31m                         text = df5['country'])\n\u001b[0m\u001b[1;32m     31\u001b[0m             ))])])])\n",
      "\u001b[0;31mNameError\u001b[0m: name 'app' is not defined"
     ]
    }
   ],
   "source": [
    "app.layout = html.Div(children=[\n",
    "        html.Div([\n",
    "        html.Div([\n",
    "            html.Div([\n",
    "                html.H4(children='Suicide Rate per 100K'),\n",
    "                html.P('Drag the slider to change the year:'),\n",
    "            ]),\n",
    "            \n",
    "        html.Div([\n",
    "                dcc.Slider(\n",
    "                    id='years-slider',\n",
    "                    min=min(YEARS),\n",
    "                    max=max(YEARS),\n",
    "                    value=min(YEARS),\n",
    "                    marks={str(year): str(year) for year in YEARS},\n",
    "                ),\n",
    "            ], style={'width':400, 'margin':25}),\n",
    "            \n",
    "            html.Br(),\n",
    "            \n",
    "        dcc.Graph(\n",
    "            id = 'global-choropleth',\n",
    "            figure = dict(\n",
    "                data=dict(\n",
    "                        type='choropleth',\n",
    "                        locations = df5['locations'],\n",
    "                        z=df5['per100'].astype(float),\n",
    "                        locationmode='country names',\n",
    "                        colorscale = DEFAULT_COLORSCALE,\n",
    "                        text = df5['country']),\n",
    "                \n",
    "        html.A('Code on Github', href=githublink),\n",
    "        html.Br(),\n",
    "        html.A(\"Data Source\", href=sourceurl),\n",
    "))])])])"
   ]
  },
  {
   "cell_type": "code",
   "execution_count": 5,
   "metadata": {},
   "outputs": [
    {
     "ename": "NameError",
     "evalue": "name 'DEFAULT_OPACITY' is not defined",
     "output_type": "error",
     "traceback": [
      "\u001b[0;31m---------------------------------------------------------------------------\u001b[0m",
      "\u001b[0;31mNameError\u001b[0m                                 Traceback (most recent call last)",
      "\u001b[0;32m<ipython-input-5-5007180e0023>\u001b[0m in \u001b[0;36m<module>\u001b[0;34m\u001b[0m\n\u001b[1;32m     33\u001b[0m                 dcc.Slider(\n\u001b[1;32m     34\u001b[0m                     \u001b[0mid\u001b[0m\u001b[0;34m=\u001b[0m\u001b[0;34m'opacity-slider'\u001b[0m\u001b[0;34m,\u001b[0m\u001b[0;34m\u001b[0m\u001b[0;34m\u001b[0m\u001b[0m\n\u001b[0;32m---> 35\u001b[0;31m                     \u001b[0mmin\u001b[0m\u001b[0;34m=\u001b[0m\u001b[0;36m0\u001b[0m\u001b[0;34m,\u001b[0m \u001b[0mmax\u001b[0m\u001b[0;34m=\u001b[0m\u001b[0;36m1\u001b[0m\u001b[0;34m,\u001b[0m \u001b[0mvalue\u001b[0m\u001b[0;34m=\u001b[0m\u001b[0mDEFAULT_OPACITY\u001b[0m\u001b[0;34m,\u001b[0m \u001b[0mstep\u001b[0m\u001b[0;34m=\u001b[0m\u001b[0;36m0.1\u001b[0m\u001b[0;34m,\u001b[0m\u001b[0;34m\u001b[0m\u001b[0;34m\u001b[0m\u001b[0m\n\u001b[0m\u001b[1;32m     36\u001b[0m                     \u001b[0mmarks\u001b[0m\u001b[0;34m=\u001b[0m\u001b[0;34m{\u001b[0m\u001b[0mtick\u001b[0m\u001b[0;34m:\u001b[0m \u001b[0mstr\u001b[0m\u001b[0;34m(\u001b[0m\u001b[0mtick\u001b[0m\u001b[0;34m)\u001b[0m\u001b[0;34m[\u001b[0m\u001b[0;36m0\u001b[0m\u001b[0;34m:\u001b[0m\u001b[0;36m3\u001b[0m\u001b[0;34m]\u001b[0m \u001b[0;32mfor\u001b[0m \u001b[0mtick\u001b[0m \u001b[0;32min\u001b[0m \u001b[0mnp\u001b[0m\u001b[0;34m.\u001b[0m\u001b[0mlinspace\u001b[0m\u001b[0;34m(\u001b[0m\u001b[0;36m0\u001b[0m\u001b[0;34m,\u001b[0m\u001b[0;36m1\u001b[0m\u001b[0;34m,\u001b[0m\u001b[0;36m11\u001b[0m\u001b[0;34m)\u001b[0m\u001b[0;34m}\u001b[0m\u001b[0;34m,\u001b[0m\u001b[0;34m\u001b[0m\u001b[0;34m\u001b[0m\u001b[0m\n\u001b[1;32m     37\u001b[0m                 ),\n",
      "\u001b[0;31mNameError\u001b[0m: name 'DEFAULT_OPACITY' is not defined"
     ]
    }
   ],
   "source": [
    "#try to clean up this section to get a better looking version of app\n",
    "\n",
    "app.layout = html.Div(children=[\n",
    "\n",
    "    html.Div([\n",
    "        html.Div([\n",
    "            html.Div([\n",
    "                html.H4(children='Suicide Rate per 100K'),\n",
    "                html.P('Drag the slider to change the year:'),\n",
    "            ]),\n",
    "\n",
    "            html.Div([\n",
    "                dcc.Slider(\n",
    "                    id='years-slider',\n",
    "                    min=min(YEARS),\n",
    "                    max=max(YEARS),\n",
    "                    value=min(YEARS),\n",
    "                    marks={str(year): str(year) for year in YEARS},\n",
    "                ),\n",
    "            ], style={'width':400, 'margin':25}),\n",
    "\n",
    "            html.Br(),\n",
    "\n",
    "        html.P('Heatmap of age adjusted mortality rates \\\n",
    "            from poisonings in year {0}'.format(min(YEARS)),\n",
    "            id = 'heatmap-title',\n",
    "            style = {'fontWeight':600}\n",
    "        ),\n",
    "\n",
    "        dcc.Graph(\n",
    "            id = 'county-choropleth',\n",
    "            figure = dict(\n",
    "                data=dict(\n",
    "                    lat = df_lat_lon['Latitude '],\n",
    "                    lon = df_lat_lon['Longitude'],\n",
    "                    text = df_lat_lon['Hover'],\n",
    "                    type = 'scattermapbox'\n",
    "                ),\n",
    "                layout = dict(\n",
    "                    mapbox = dict(\n",
    "                        layers = [],\n",
    "                        accesstoken = mapbox_access_token,\n",
    "                        style = 'light',\n",
    "                        center=dict(\n",
    "                            lat=38.72490,\n",
    "                            lon=-95.61446,\n",
    "                        ),\n",
    "                        pitch=0,\n",
    "                        zoom=2.5\n",
    "                    )\n",
    "                )\n",
    "            )\n",
    "        ),\n",
    "\n",
    "        html.Div([\n",
    "            html.P('† Deaths are classified using the International Classification of Diseases, \\\n",
    "                Tenth Revision (ICD–10). Drug-poisoning deaths are defined as having ICD–10 underlying \\\n",
    "                cause-of-death codes X40–X44 (unintentional), X60–X64 (suicide), X85 (homicide), or Y10–Y14 \\\n",
    "                (undetermined intent).'\n",
    "            )\n",
    "        ], style={'margin':20})\n",
    "\n",
    "    ], className='six columns', style={'margin':0}),\n",
    "\n",
    "    html.Div([\n",
    "        dcc.Checklist(\n",
    "            options=[{'label': 'Log scale', 'value': 'log'},\n",
    "                    {'label': 'Hide legend', 'value': 'hide_legend'},\n",
    "                    {'label': 'Include values flagged \"Unreliable\"', 'value': 'include_unreliable'}],\n",
    "            values=[],\n",
    "            labelStyle={'display': 'inline-block'},\n",
    "            id='log-scale',\n",
    "            style={'position': 'absolute', 'right': 80, 'top': 10}\n",
    "        ),\n",
    "        html.Br(),\n",
    "        html.P('Select chart:', style={'display': 'inline-block'}),\n",
    "        dcc.Dropdown(\n",
    "            options=[{'label': 'Histogram of total number of deaths (single year)', 'value': 'show_absolute_deaths_single_year'},\n",
    "                    {'label': 'Histogram of total number of deaths (1999-2016)', 'value': 'absolute_deaths_all_time'},\n",
    "                    {'label': 'Age-adjusted death rate (single year)', 'value': 'show_death_rate_single_year'},\n",
    "                    {'label': 'Trends in age-adjusted death rate (1999-2016)', 'value': 'death_rate_all_time'}],\n",
    "            value='show_death_rate_single_year',\n",
    "            id='chart-dropdown'\n",
    "        ),\n",
    "        dcc.Graph(\n",
    "            id = 'selected-data',\n",
    "            figure = dict(\n",
    "                data = [dict(x=0, y=0)],\n",
    "                layout = dict(\n",
    "                    paper_bgcolor = '#F4F4F8',\n",
    "                    plot_bgcolor = '#F4F4F8',\n",
    "                    height = 700\n",
    "                )\n",
    "            ),\n",
    "# animate = True\n",
    "        )\n",
    "    ], className='six columns', style={'margin':0}),\n",
    "])\n"
   ]
  }
 ],
 "metadata": {
  "kernelspec": {
   "display_name": "Python 3",
   "language": "python",
   "name": "python3"
  },
  "language_info": {
   "codemirror_mode": {
    "name": "ipython",
    "version": 3
   },
   "file_extension": ".py",
   "mimetype": "text/x-python",
   "name": "python",
   "nbconvert_exporter": "python",
   "pygments_lexer": "ipython3",
   "version": "3.7.3"
  }
 },
 "nbformat": 4,
 "nbformat_minor": 2
}
